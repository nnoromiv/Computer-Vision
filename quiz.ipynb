{
 "cells": [
  {
   "cell_type": "markdown",
   "metadata": {},
   "source": [
    "# <span style=\"font-family: Century Gothic\">QUIZ</span>"
   ]
  },
  {
   "cell_type": "markdown",
   "metadata": {},
   "source": [
    "<p style=\"font-family: Century Gothic; font-size: 15px\">How are the pixels of an image normally represented in OpenCV?</p>\n",
    "<p style=\"font-family: Century Gothic; font-size: 14px\"> - Unsigned bytes</p>\n"
   ]
  },
  {
   "cell_type": "markdown",
   "metadata": {},
   "source": [
    "<p style=\"font-family: Century Gothic; font-size: 15px\">What values did your extrema routine return for test image?</p>\n",
    "<p style=\"font-family: Century Gothic; font-size: 14px\"> - 10, 15.</p>\n"
   ]
  },
  {
   "cell_type": "markdown",
   "metadata": {},
   "source": [
    "<p style=\"font-family: Century Gothic; font-size: 15px\">How many rows and columns are there in the image sx.jpg?</p>\n",
    "<p style=\"font-family: Century Gothic; font-size: 14px\"> - 512 and 512.</p>"
   ]
  },
  {
   "cell_type": "markdown",
   "metadata": {},
   "source": [
    "<p style=\"font-family: Century Gothic; font-size: 15px\">How are images represented in OpenCV?</p>\n",
    "<p style=\"font-family: Century Gothic; font-size: 14px\"> - As numpy arrays</p>"
   ]
  },
  {
   "cell_type": "markdown",
   "metadata": {},
   "source": [
    "<p style=\"font-family: Century Gothic; font-size: 15px\">What underlying OpenCV routine does sxcv.display call to display an image?</p>\n",
    "<p style=\"font-family: Century Gothic; font-size: 14px\"> - Is cv2.imshow</p>"
   ]
  },
  {
   "cell_type": "markdown",
   "metadata": {},
   "source": [
    "<p style=\"font-family: Century Gothic; font-size: 15px\">What is sys.argv[1]?</p>\n",
    "<p style=\"font-family: Century Gothic; font-size: 14px\"> - The first space-separated word on the command line.</p>"
   ]
  },
  {
   "cell_type": "markdown",
   "metadata": {},
   "source": [
    "<p style=\"font-family: Century Gothic; font-size: 15px\">What is the standard deviation?</p>\n",
    "<p style=\"font-family: Century Gothic; font-size: 14px\"> - The average spread of values from the mean.</p>"
   ]
  },
  {
   "cell_type": "markdown",
   "metadata": {},
   "source": [
    "<p style=\"font-family: Century Gothic; font-size: 15px\">What do the three subscripts of a colour image represent in OpenCV?</p>\n",
    "<p style=\"font-family: Century Gothic; font-size: 14px\"> - Row, Column, Colour.</p>"
   ]
  },
  {
   "cell_type": "markdown",
   "metadata": {},
   "source": [
    "<p style=\"font-family: Century Gothic; font-size: 15px\">What does cv2.imread do if it cannot read an image?</p>\n",
    "<p style=\"font-family: Century Gothic; font-size: 14px\"> - It returns None.</p>"
   ]
  },
  {
   "cell_type": "markdown",
   "metadata": {},
   "source": [
    "<p style=\"font-family: Century Gothic; font-size: 15px\">Where is the origin of an image in OpenCV?</p>\n",
    "<p style=\"font-family: Century Gothic; font-size: 14px\"> - The top left corner</p>"
   ]
  },
  {
   "cell_type": "markdown",
   "metadata": {},
   "source": [
    "### <span style=\"font-family: Century Gothic\">Histogram</span>"
   ]
  },
  {
   "cell_type": "markdown",
   "metadata": {},
   "source": [
    "<p style=\"font-family: Century Gothic; font-size: 15px\">What are plotted along the x- and y-axes of a histogram?</p>\n",
    "<p style=\"font-family: Century Gothic; font-size: 14px\"> - Grey level and frequency</p>"
   ]
  },
  {
   "cell_type": "markdown",
   "metadata": {},
   "source": [
    "<p style=\"font-family: Century Gothic; font-size: 15px\">Image 2006-10-23-001.jpg is well exposed. How does its histogram appear?</p>\n",
    "<p style=\"font-family: Century Gothic; font-size: 14px\"> - There is a peak around the middle of the histogram*</p>"
   ]
  },
  {
   "cell_type": "markdown",
   "metadata": {},
   "source": [
    "<p style=\"font-family: Century Gothic; font-size: 15px\">Why does your histogram routine need different cases for monochrome and colour images?</p>\n",
    "<p style=\"font-family: Century Gothic; font-size: 14px\"> - Color images require 3 subscripts and monochrome only 2</p>"
   ]
  },
  {
   "cell_type": "markdown",
   "metadata": {},
   "source": [
    "<p style=\"font-family: Century Gothic; font-size: 15px\">How many distinct peaks did the histogram of fruit.png show?</p>\n",
    "<p style=\"font-family: Century Gothic; font-size: 14px\"> - 2</p>"
   ]
  },
  {
   "cell_type": "markdown",
   "metadata": {},
   "source": [
    "<p style=\"font-family: Century Gothic; font-size: 15px\">For a color image, the histogram is plotted in what colors by sxcv.py routine plot_histogram?</p>\n",
    "<p style=\"font-family: Century Gothic; font-size: 14px\"> - Red, Green, Blue </p>"
   ]
  },
  {
   "cell_type": "markdown",
   "metadata": {},
   "source": [
    "<p style=\"font-family: Century Gothic; font-size: 15px\">What is likely to happen if you can sxcv.binarize with its below and above parameters set to 255 and zero respectively?</p>\n",
    "<p style=\"font-family: Century Gothic; font-size: 14px\"> - The image will come out with all pixels set to 255</p>"
   ]
  },
  {
   "cell_type": "markdown",
   "metadata": {},
   "source": [
    "<p style=\"font-family: Century Gothic; font-size: 15px\">The initial histogram routine you developed plotted values in what range?</p>\n",
    "<p style=\"font-family: Century Gothic; font-size: 14px\"> - Zero to the value returned by a call to highest</p>"
   ]
  },
  {
   "cell_type": "markdown",
   "metadata": {},
   "source": [
    "<p style=\"font-family: Century Gothic; font-size: 15px\">The routines you are writing for sxcv.py are specified by their documentation and some tests. What form of extreme programming is this?</p>\n",
    "<p style=\"font-family: Century Gothic; font-size: 14px\"> - Test-driven development</p>"
   ]
  },
  {
   "cell_type": "markdown",
   "metadata": {},
   "source": [
    "<p style=\"font-family: Century Gothic; font-size: 15px\">Which of the following best describes the exposure of image 2006-10-23-002.jpg?</p>\n",
    "<p style=\"font-family: Century Gothic; font-size: 14px\"> - Under-exposed</p>"
   ]
  },
  {
   "cell_type": "markdown",
   "metadata": {},
   "source": [
    "<p style=\"font-family: Century Gothic; font-size: 15px\">What is the first value returned by cv2.threshold?</p>\n",
    "<p style=\"font-family: Century Gothic; font-size: 14px\"> - The value of the threshold</p>"
   ]
  },
  {
   "cell_type": "markdown",
   "metadata": {},
   "source": [
    "### <span style=\"font-family: Century Gothic\">Color</span>"
   ]
  },
  {
   "cell_type": "markdown",
   "metadata": {},
   "source": [
    "<p style=\"font-family: Century Gothic; font-size: 15px\">How would two masks returned from cv2.inRange be combined?</p>\n",
    "<p style=\"font-family: Century Gothic; font-size: 14px\"> - By OR-ing them</p>"
   ]
  },
  {
   "cell_type": "markdown",
   "metadata": {},
   "source": [
    "<p style=\"font-family: Century Gothic; font-size: 15px\">Why are the HSV values used by most people changed for use in OpenCV?</p>\n",
    "<p style=\"font-family: Century Gothic; font-size: 14px\"> - To fit into an unsigned byte</p>"
   ]
  },
  {
   "cell_type": "markdown",
   "metadata": {},
   "source": [
    "<p style=\"font-family: Century Gothic; font-size: 15px\">Why is segmenting red difficult in HSV colour space?</p>\n",
    "<p style=\"font-family: Century Gothic; font-size: 14px\"> - Hues corresponding to red lie just above zero AND just below 360 degrees</p>"
   ]
  },
  {
   "cell_type": "markdown",
   "metadata": {},
   "source": [
    "<p style=\"font-family: Century Gothic; font-size: 15px\">What ordering are the color channels by default in OpenCV?</p>\n",
    "<p style=\"font-family: Century Gothic; font-size: 14px\"> - BGR</p>"
   ]
  },
  {
   "cell_type": "markdown",
   "metadata": {},
   "source": [
    "<p style=\"font-family: Century Gothic; font-size: 15px\">What colour corresponds roughly to HSV values (60, 90, 90)?</p>\n",
    "<p style=\"font-family: Century Gothic; font-size: 14px\"> - Yellow</p>"
   ]
  },
  {
   "cell_type": "markdown",
   "metadata": {},
   "source": [
    "<p style=\"font-family: Century Gothic; font-size: 15px\">Which OpenCV HSV values are closest to (180, 50, 50)?</p>\n",
    "<p style=\"font-family: Century Gothic; font-size: 14px\"> - (90, 128, 128)</p>"
   ]
  },
  {
   "cell_type": "markdown",
   "metadata": {},
   "source": [
    "<p style=\"font-family: Century Gothic; font-size: 15px\">What data type are the color arguments in a call to cv2.inRange?</p>\n",
    "<p style=\"font-family: Century Gothic; font-size: 14px\"> - Tuple </p>"
   ]
  },
  {
   "cell_type": "markdown",
   "metadata": {},
   "source": [
    "<p style=\"font-family: Century Gothic; font-size: 15px\">What does saturation mean in HSV color space?</p>\n",
    "<p style=\"font-family: Century Gothic; font-size: 14px\"> - How intense the color is compared to grey</p>"
   ]
  },
  {
   "cell_type": "markdown",
   "metadata": {},
   "source": [
    "<p style=\"font-family: Century Gothic; font-size: 15px\">What colour correspond to HSV values (120, 0, 100)?</p>\n",
    "<p style=\"font-family: Century Gothic; font-size: 14px\"> - Grey</p>"
   ]
  },
  {
   "cell_type": "markdown",
   "metadata": {},
   "source": [
    "<p style=\"font-family: Century Gothic; font-size: 15px\">Given a three-channel color image as input, what does cv2.inRange return?</p>\n",
    "<p style=\"font-family: Century Gothic; font-size: 14px\"> - 2D image set to zero and 255</p>"
   ]
  },
  {
   "cell_type": "markdown",
   "metadata": {},
   "source": [
    "### <span style=\"font-family: Century Gothic\">Regions</span>"
   ]
  },
  {
   "cell_type": "markdown",
   "metadata": {},
   "source": [
    "<p style=\"font-family: Century Gothic; font-size: 15px\">Which of the following CANNOT be returned by calling an OpenCV routine with a contour?</p>\n",
    "<p style=\"font-family: Century Gothic; font-size: 14px\"> - Concave hull</p>"
   ]
  },
  {
   "cell_type": "markdown",
   "metadata": {},
   "source": [
    "<p style=\"font-family: Century Gothic; font-size: 15px\">On what basis does sxcv.largest_contour work?</p>\n",
    "<p style=\"font-family: Century Gothic; font-size: 14px\"> - The contour with the largest area</p>"
   ]
  },
  {
   "cell_type": "markdown",
   "metadata": {},
   "source": [
    "<p style=\"font-family: Century Gothic; font-size: 15px\"> If you compute the ratio between the height and width of a bounding box, which of the following would it be most useful for?</p>\n",
    "<p style=\"font-family: Century Gothic; font-size: 14px\"> - Distinguishing square biscuits from rectangular ones </p>"
   ]
  },
  {
   "cell_type": "markdown",
   "metadata": {},
   "source": [
    "<p style=\"font-family: Century Gothic; font-size: 15px\"> The area of the contour from sxcv.arrowhead is not the same as the number pixels in it set to 255. Why is this?</p>\n",
    "<p style=\"font-family: Century Gothic; font-size: 14px\"> - The algorithm used in cv2.contourArea does not count pixels</p>"
   ]
  },
  {
   "cell_type": "markdown",
   "metadata": {},
   "source": [
    "<p style=\"font-family: Century Gothic; font-size: 15px\">Which of the following tasks would region-based processing be useful for?</p>\n",
    "<p style=\"font-family: Century Gothic; font-size: 14px\"> - Distinguishing between buildings and trees</p>"
   ]
  },
  {
   "cell_type": "markdown",
   "metadata": {},
   "source": [
    "<p style=\"font-family: Century Gothic; font-size: 15px\">What is the area of the image from sxcv.arrowhead?</p>\n",
    "<p style=\"font-family: Century Gothic; font-size: 14px\"> - 5</p>"
   ]
  },
  {
   "cell_type": "markdown",
   "metadata": {},
   "source": [
    "<p style=\"font-family: Century Gothic; font-size: 15px\">Which of the following expressions works out the rectangularity of a region having a bounding box of width W, height H and area A?</p>\n",
    "<p style=\"font-family: Century Gothic; font-size: 14px\"> - (W*H)/A</p>"
   ]
  },
  {
   "cell_type": "markdown",
   "metadata": {},
   "source": [
    "<p style=\"font-family: Century Gothic; font-size: 15px\">Which of the following expressions is circularity?</p>\n",
    "<p style=\"font-family: Century Gothic; font-size: 14px\"> - C^2/A </p>"
   ]
  },
  {
   "cell_type": "markdown",
   "metadata": {},
   "source": [
    "<p style=\"font-family: Century Gothic; font-size: 15px\">Why is circularity calculated using the formula C^2/A?</p>\n",
    "<p style=\"font-family: Century Gothic; font-size: 14px\"> - It is independent of radius</p>"
   ]
  },
  {
   "cell_type": "markdown",
   "metadata": {},
   "source": [
    "<p style=\"font-family: Century Gothic; font-size: 15px\">What is the rectangularity of a region which is twice as long as it is wide?</p>\n",
    "<p style=\"font-family: Century Gothic; font-size: 14px\"> - About 1 </p>"
   ]
  }
 ],
 "metadata": {
  "language_info": {
   "name": "python"
  }
 },
 "nbformat": 4,
 "nbformat_minor": 2
}
